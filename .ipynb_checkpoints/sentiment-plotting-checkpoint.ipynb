{
 "cells": [
  {
   "cell_type": "markdown",
   "id": "f7c91350",
   "metadata": {},
   "source": [
    "Relevant code to generate sentiment arcs given text (taken from 6 shapes paper):\n",
    "https://github.com/andyreagan/core-stories (see to download dataset)\n",
    "\n",
    "Database was created from RDF files from gutenberg (see Fill-data for more)"
   ]
  },
  {
   "cell_type": "code",
   "execution_count": null,
   "id": "fc1e1217",
   "metadata": {},
   "outputs": [],
   "source": [
    "Book_raw_data.chopper_sliding(TEXT)"
   ]
  },
  {
   "cell_type": "code",
   "execution_count": null,
   "id": "917604e1",
   "metadata": {},
   "outputs": [],
   "source": []
  },
  {
   "cell_type": "code",
   "execution_count": 10,
   "id": "cc57e48c",
   "metadata": {},
   "outputs": [
    {
     "name": "stdout",
     "output_type": "stream",
     "text": [
      "['C:\\\\Users\\\\Owner\\\\Documents\\\\GitHub\\\\narrative-recommend', 'C:\\\\ProgramData\\\\anaconda3\\\\python311.zip', 'C:\\\\ProgramData\\\\anaconda3\\\\DLLs', 'C:\\\\ProgramData\\\\anaconda3\\\\Lib', 'C:\\\\ProgramData\\\\anaconda3', '', 'C:\\\\Users\\\\Owner\\\\AppData\\\\Roaming\\\\Python\\\\Python311\\\\site-packages', 'C:\\\\ProgramData\\\\anaconda3\\\\Lib\\\\site-packages', 'C:\\\\ProgramData\\\\anaconda3\\\\Lib\\\\site-packages\\\\labmtsimple-2.8.7-py3.11.egg', 'C:\\\\ProgramData\\\\anaconda3\\\\Lib\\\\site-packages\\\\win32', 'C:\\\\ProgramData\\\\anaconda3\\\\Lib\\\\site-packages\\\\win32\\\\lib', 'C:\\\\ProgramData\\\\anaconda3\\\\Lib\\\\site-packages\\\\Pythonwin', '/Users/Owner/Documents/GitHub/narrative-recommend']\n"
     ]
    }
   ],
   "source": [
    "#need to load in files from correct locations\n",
    "import sys\n",
    "print(sys.path)"
   ]
  },
  {
   "cell_type": "markdown",
   "id": "0fc34c02",
   "metadata": {},
   "source": [
    "Note on below cell: Currently loading in labMTsimple from:\n",
    "    C:\\ProgramData\\anaconda3\\Lib\\site-packages\\labMTsimple-2.8.7-py3.11.egg\\labMTsimple\\data\\LabMT  - (which was pip installed)\n",
    "    \n",
    "Also changed code in \"speedy.py\" - line 351 to adjust to correct path"
   ]
  },
  {
   "cell_type": "code",
   "execution_count": 13,
   "id": "a23a0772",
   "metadata": {},
   "outputs": [],
   "source": [
    "#imports:\n",
    "from os import listdir\n",
    "from os.path import isfile, join\n",
    "import sys\n",
    "\n",
    "#if you want the dogtoys module, feed the path here and uncomment\n",
    "\n",
    "sys.path.append('/Users/Owner/Documents/GitHub/narrative-recommend')\n",
    "from kitchentable.dogtoys import *\n",
    "\n",
    "from json import loads\n",
    "from re import findall,UNICODE\n",
    "\n",
    "from labMTsimple.speedy import LabMT    #renamed from labtmtsimple.labmtsimple...\n",
    "my_LabMT = LabMT()   #<--- can change to other paper's methods!!\n",
    "from labMTsimple.storyLab import *"
   ]
  },
  {
   "cell_type": "code",
   "execution_count": 16,
   "id": "2c8ebe1d",
   "metadata": {
    "scrolled": true
   },
   "outputs": [],
   "source": [
    "#this chunk of code comes from core-stories/exploratory/artofwar\n",
    "\n",
    "import numpy as np\n",
    "from database.bookclass import *\n",
    "import pickle\n",
    "\n",
    "import os\n",
    "#sys.path.append('/Users/Owner/Documents/GitHub/narrative-recommend/books')  #this line needs to give path for where your books folder is\n",
    "sys.path.append('/Users/Owner/Documents/GitHub/narrative-recommend/database')\n",
    "os.environ.setdefault('DJANGO_SETTINGS_MODULE','gutenbergdb.settings')\n",
    "\n",
    "import django\n",
    "django.setup()\n",
    "\n",
    "from library.models import *\n",
    "\n",
    "from datetime import datetime\n",
    "\n",
    "use_cache = True\n",
    "\n",
    "# all our essentials\n",
    "from matplotlib import rc,rcParams\n",
    "# rc('font', family='sans-serif') \n",
    "# rc('font', serif='Helvetica Neue')\n",
    "# rc('text', usetex='false') \n",
    "\n",
    "rc('font', family='serif')\n",
    "rc('font', family='cmr10')\n",
    "rc('text', usetex='false') \n",
    "\n",
    "rcParams.update({'font.size': 12})\n",
    "import matplotlib.pyplot as plt\n",
    "%matplotlib inline"
   ]
  },
  {
   "cell_type": "markdown",
   "id": "1f8c7eba",
   "metadata": {},
   "source": [
    "Ok, I don't know where the books come from.  I'm guessing that's a database?  But where is it reading from?"
   ]
  },
  {
   "cell_type": "markdown",
   "id": "9d19a326",
   "metadata": {},
   "source": [
    "#Create a book object:\n",
    "        my_book = Book(title=my_title,\n",
    "                       hash=my_hash,\n",
    "                       # authors=my_author_objects,\n",
    "                       language=my_lang,\n",
    "                       lang_code_id=my_lang_id,\n",
    "                       downloads=my_downloads,\n",
    "                       from_gutenberg=True,\n",
    "                       gutenberg_id=(i+1),\n",
    "                       exclude=True,\n",
    "                       excludeReason=\"No file.\"\n",
    "                    )\n",
    "    \n",
    "    Initialize with an instrance of the database like this:\n",
    "    b = Book.objects.all()[0]\n",
    "    b_data = Book_raw_data(b)"
   ]
  },
  {
   "cell_type": "code",
   "execution_count": 20,
   "id": "826b92b2",
   "metadata": {},
   "outputs": [],
   "source": [
    "#filters the gutenberg books corpus by certain features\n",
    "\n",
    "#NOTE: \"Book.objects.filter\" is part of Django API\n",
    "    \n",
    "\n",
    "q = Book.objects.filter(exclude=False,  #Book object comes from database/library/models.py\n",
    "                        length__gt=10000,\n",
    "                        length__lte=200000,\n",
    "                        downloads__gte=150,\n",
    "                        numUniqWords__gt=1000,\n",
    "                        numUniqWords__lt=18000,\n",
    "                        lang_code_id=0).order_by(\"gutenberg_id\")"
   ]
  },
  {
   "cell_type": "code",
   "execution_count": null,
   "id": "f8581628",
   "metadata": {},
   "outputs": [],
   "source": [
    "listdir(\"data/Kindle-combined-txt/\")"
   ]
  },
  {
   "cell_type": "code",
   "execution_count": 4,
   "id": "6bac3299",
   "metadata": {},
   "outputs": [
    {
     "ename": "FileNotFoundError",
     "evalue": "[WinError 3] The system cannot find the path specified: 'data/Kindle-combined-txt/'",
     "output_type": "error",
     "traceback": [
      "\u001b[1;31m---------------------------------------------------------------------------\u001b[0m",
      "\u001b[1;31mFileNotFoundError\u001b[0m                         Traceback (most recent call last)",
      "Cell \u001b[1;32mIn[4], line 1\u001b[0m\n\u001b[1;32m----> 1\u001b[0m book_folders \u001b[38;5;241m=\u001b[39m listdir(\u001b[38;5;124m\"\u001b[39m\u001b[38;5;124mdata/Kindle-combined-txt/\u001b[39m\u001b[38;5;124m\"\u001b[39m)\n\u001b[0;32m      2\u001b[0m \u001b[38;5;28mlen\u001b[39m(book_folders)\n",
      "\u001b[1;31mFileNotFoundError\u001b[0m: [WinError 3] The system cannot find the path specified: 'data/Kindle-combined-txt/'"
     ]
    }
   ],
   "source": [
    "book_folders = listdir(\"data/Kindle-combined-txt/\")\n",
    "len(book_folders)"
   ]
  },
  {
   "cell_type": "code",
   "execution_count": null,
   "id": "2df1fc97",
   "metadata": {},
   "outputs": [],
   "source": [
    "all_books = [book(b) for b in book_folders[:100]]"
   ]
  },
  {
   "cell_type": "code",
   "execution_count": 17,
   "id": "76ba822e",
   "metadata": {},
   "outputs": [
    {
     "data": {
      "text/plain": [
       "1"
      ]
     },
     "execution_count": 17,
     "metadata": {},
     "output_type": "execute_result"
    }
   ],
   "source": [
    "books = listdir(\"books\")\n",
    "len(books)"
   ]
  },
  {
   "cell_type": "code",
   "execution_count": 18,
   "id": "98bfd17b",
   "metadata": {},
   "outputs": [
    {
     "name": "stdout",
     "output_type": "stream",
     "text": [
      "['The_Great_Gatsby.txt']\n"
     ]
    }
   ],
   "source": [
    "print(books)"
   ]
  },
  {
   "cell_type": "code",
   "execution_count": 21,
   "id": "5e77a9ac",
   "metadata": {},
   "outputs": [
    {
     "ename": "AttributeError",
     "evalue": "'str' object has no attribute 'txt_file_path'",
     "output_type": "error",
     "traceback": [
      "\u001b[1;31m---------------------------------------------------------------------------\u001b[0m",
      "\u001b[1;31mAttributeError\u001b[0m                            Traceback (most recent call last)",
      "Cell \u001b[1;32mIn[21], line 4\u001b[0m\n\u001b[0;32m      1\u001b[0m \u001b[38;5;28;01mfor\u001b[39;00m p \u001b[38;5;129;01min\u001b[39;00m books:\n\u001b[0;32m      2\u001b[0m         \u001b[38;5;66;03m#b = Book.objects.get(gutenberg_id=p)\u001b[39;00m\n\u001b[0;32m      3\u001b[0m         b_data \u001b[38;5;241m=\u001b[39m Book_raw_data(b)\n\u001b[1;32m----> 4\u001b[0m         \u001b[38;5;28mprint\u001b[39m(b\u001b[38;5;241m.\u001b[39mtxt_file_path)\n",
      "\u001b[1;31mAttributeError\u001b[0m: 'str' object has no attribute 'txt_file_path'"
     ]
    }
   ],
   "source": [
    "for p in books:\n",
    "        #b = Book.objects.get(gutenberg_id=p)\n",
    "        b_data = Book_raw_data(b)\n",
    "        print(b.txt_file_path)"
   ]
  },
  {
   "cell_type": "code",
   "execution_count": 9,
   "id": "966469e7",
   "metadata": {},
   "outputs": [],
   "source": [
    "#alternatively, grab a SINGLE book from the corpus\n",
    "#this function assumes the Book database is filled\n",
    "q = Book.objects.filter(title=\"The_Great_Gatsby\")"
   ]
  },
  {
   "cell_type": "code",
   "execution_count": 25,
   "id": "3515158d",
   "metadata": {},
   "outputs": [],
   "source": [
    "#or just grab raw data like so:\n",
    "#modify bookrawdata to read from correct place?\n",
    "b_data = Book_raw_data('books/The_Great_Gatsby.txt')"
   ]
  },
  {
   "cell_type": "code",
   "execution_count": 37,
   "id": "b708ad78",
   "metadata": {},
   "outputs": [
    {
     "data": {
      "text/plain": [
       "database.bookclass.Book_raw_data"
      ]
     },
     "execution_count": 37,
     "metadata": {},
     "output_type": "execute_result"
    }
   ],
   "source": [
    "type(b_data)"
   ]
  },
  {
   "cell_type": "code",
   "execution_count": 36,
   "id": "3ae84555",
   "metadata": {},
   "outputs": [
    {
     "ename": "AttributeError",
     "evalue": "'str' object has no attribute 'pk'",
     "output_type": "error",
     "traceback": [
      "\u001b[1;31m---------------------------------------------------------------------------\u001b[0m",
      "\u001b[1;31mAttributeError\u001b[0m                            Traceback (most recent call last)",
      "Cell \u001b[1;32mIn[36], line 1\u001b[0m\n\u001b[1;32m----> 1\u001b[0m a \u001b[38;5;241m=\u001b[39m b_data\u001b[38;5;241m.\u001b[39mchopper_sliding(my_LabMT,num_points\u001b[38;5;241m=\u001b[39m\u001b[38;5;241m200\u001b[39m,stop_val\u001b[38;5;241m=\u001b[39m\u001b[38;5;241m1.0\u001b[39m)  \u001b[38;5;66;03m#mylabMT seems to be Hedonometer words?\u001b[39;00m\n\u001b[0;32m      2\u001b[0m plt\u001b[38;5;241m.\u001b[39msubplot(\u001b[38;5;241m2\u001b[39m,\u001b[38;5;241m2\u001b[39m,i\u001b[38;5;241m+\u001b[39m\u001b[38;5;241m1\u001b[39m)\n\u001b[0;32m      3\u001b[0m plt\u001b[38;5;241m.\u001b[39mplot(b_data\u001b[38;5;241m.\u001b[39mtimeseries)\n",
      "File \u001b[1;32m~\\Documents\\GitHub\\narrative-recommend\\database\\bookclass.py:353\u001b[0m, in \u001b[0;36mBook_raw_data.chopper_sliding\u001b[1;34m(self, my_senti_dict, min_size, num_points, stop_val, use_cache, randomize, random_method)\u001b[0m\n\u001b[0;32m    351\u001b[0m \u001b[38;5;66;03m# print(\"and printing those frequency vectors\")\u001b[39;00m\n\u001b[0;32m    352\u001b[0m \u001b[38;5;28;01mif\u001b[39;00m use_compression:\n\u001b[1;32m--> 353\u001b[0m     cache_file \u001b[38;5;241m=\u001b[39m join(\u001b[38;5;28mself\u001b[39m\u001b[38;5;241m.\u001b[39mcache_dir,\u001b[38;5;124m\"\u001b[39m\u001b[38;5;132;01m{0}\u001b[39;00m\u001b[38;5;124m-all-fvecs-\u001b[39m\u001b[38;5;132;01m{1}\u001b[39;00m\u001b[38;5;124m-\u001b[39m\u001b[38;5;132;01m{2}\u001b[39;00m\u001b[38;5;124m.p.lz4\u001b[39m\u001b[38;5;124m\"\u001b[39m\u001b[38;5;241m.\u001b[39mformat(\u001b[38;5;28mself\u001b[39m\u001b[38;5;241m.\u001b[39mthis_Book\u001b[38;5;241m.\u001b[39mpk,min_size,num_points))\n\u001b[0;32m    354\u001b[0m \u001b[38;5;28;01melse\u001b[39;00m:\n\u001b[0;32m    355\u001b[0m     cache_file \u001b[38;5;241m=\u001b[39m join(\u001b[38;5;28mself\u001b[39m\u001b[38;5;241m.\u001b[39mcache_dir,\u001b[38;5;124m\"\u001b[39m\u001b[38;5;132;01m{0}\u001b[39;00m\u001b[38;5;124m-all-fvecs-\u001b[39m\u001b[38;5;132;01m{1}\u001b[39;00m\u001b[38;5;124m-\u001b[39m\u001b[38;5;132;01m{2}\u001b[39;00m\u001b[38;5;124m.p\u001b[39m\u001b[38;5;124m\"\u001b[39m\u001b[38;5;241m.\u001b[39mformat(\u001b[38;5;28mself\u001b[39m\u001b[38;5;241m.\u001b[39mthis_Book\u001b[38;5;241m.\u001b[39mpk,min_size,num_points))\n",
      "\u001b[1;31mAttributeError\u001b[0m: 'str' object has no attribute 'pk'"
     ]
    }
   ],
   "source": [
    "a = b_data.chopper_sliding(my_LabMT,num_points=200,stop_val=1.0)  #mylabMT seems to be Hedonometer words?\n",
    "plt.subplot(2,2,i+1)\n",
    "plt.plot(b_data.timeseries)\n",
    "plt.title(\"{0} ({1})\".format(b.title,b.gutenberg_id))"
   ]
  },
  {
   "cell_type": "code",
   "execution_count": 10,
   "id": "f489e09e",
   "metadata": {
    "scrolled": true
   },
   "outputs": [
    {
     "ename": "SynchronousOnlyOperation",
     "evalue": "You cannot call this from an async context - use a thread or sync_to_async.",
     "output_type": "error",
     "traceback": [
      "\u001b[1;31m---------------------------------------------------------------------------\u001b[0m",
      "\u001b[1;31mSynchronousOnlyOperation\u001b[0m                  Traceback (most recent call last)",
      "Cell \u001b[1;32mIn[10], line 7\u001b[0m\n\u001b[0;32m      1\u001b[0m \u001b[38;5;66;03m#given a list of books, goes through them and finds books which are not excluded\u001b[39;00m\n\u001b[0;32m      2\u001b[0m \u001b[38;5;66;03m#then processes and plots them \u001b[39;00m\n\u001b[0;32m      3\u001b[0m \n\u001b[0;32m      4\u001b[0m \u001b[38;5;66;03m#requires bookclass.py\u001b[39;00m\n\u001b[0;32m      6\u001b[0m plt\u001b[38;5;241m.\u001b[39mfigure(figsize\u001b[38;5;241m=\u001b[39m(\u001b[38;5;241m15\u001b[39m,\u001b[38;5;241m7.5\u001b[39m))\n\u001b[1;32m----> 7\u001b[0m \u001b[38;5;28;01mfor\u001b[39;00m i,b \u001b[38;5;129;01min\u001b[39;00m \u001b[38;5;28menumerate\u001b[39m(q):\n\u001b[0;32m      8\u001b[0m     \u001b[38;5;28mprint\u001b[39m(b\u001b[38;5;241m.\u001b[39mtitle)\n\u001b[0;32m      9\u001b[0m     \u001b[38;5;28;01mfor\u001b[39;00m a \u001b[38;5;129;01min\u001b[39;00m b\u001b[38;5;241m.\u001b[39mauthors\u001b[38;5;241m.\u001b[39mall():\n",
      "File \u001b[1;32mC:\\ProgramData\\anaconda3\\Lib\\site-packages\\django\\db\\models\\query.py:394\u001b[0m, in \u001b[0;36mQuerySet.__iter__\u001b[1;34m(self)\u001b[0m\n\u001b[0;32m    379\u001b[0m \u001b[38;5;28;01mdef\u001b[39;00m \u001b[38;5;21m__iter__\u001b[39m(\u001b[38;5;28mself\u001b[39m):\n\u001b[0;32m    380\u001b[0m \u001b[38;5;250m    \u001b[39m\u001b[38;5;124;03m\"\"\"\u001b[39;00m\n\u001b[0;32m    381\u001b[0m \u001b[38;5;124;03m    The queryset iterator protocol uses three nested iterators in the\u001b[39;00m\n\u001b[0;32m    382\u001b[0m \u001b[38;5;124;03m    default case:\u001b[39;00m\n\u001b[1;32m   (...)\u001b[0m\n\u001b[0;32m    392\u001b[0m \u001b[38;5;124;03m           - Responsible for turning the rows into model objects.\u001b[39;00m\n\u001b[0;32m    393\u001b[0m \u001b[38;5;124;03m    \"\"\"\u001b[39;00m\n\u001b[1;32m--> 394\u001b[0m     \u001b[38;5;28mself\u001b[39m\u001b[38;5;241m.\u001b[39m_fetch_all()\n\u001b[0;32m    395\u001b[0m     \u001b[38;5;28;01mreturn\u001b[39;00m \u001b[38;5;28miter\u001b[39m(\u001b[38;5;28mself\u001b[39m\u001b[38;5;241m.\u001b[39m_result_cache)\n",
      "File \u001b[1;32mC:\\ProgramData\\anaconda3\\Lib\\site-packages\\django\\db\\models\\query.py:1866\u001b[0m, in \u001b[0;36mQuerySet._fetch_all\u001b[1;34m(self)\u001b[0m\n\u001b[0;32m   1864\u001b[0m \u001b[38;5;28;01mdef\u001b[39;00m \u001b[38;5;21m_fetch_all\u001b[39m(\u001b[38;5;28mself\u001b[39m):\n\u001b[0;32m   1865\u001b[0m     \u001b[38;5;28;01mif\u001b[39;00m \u001b[38;5;28mself\u001b[39m\u001b[38;5;241m.\u001b[39m_result_cache \u001b[38;5;129;01mis\u001b[39;00m \u001b[38;5;28;01mNone\u001b[39;00m:\n\u001b[1;32m-> 1866\u001b[0m         \u001b[38;5;28mself\u001b[39m\u001b[38;5;241m.\u001b[39m_result_cache \u001b[38;5;241m=\u001b[39m \u001b[38;5;28mlist\u001b[39m(\u001b[38;5;28mself\u001b[39m\u001b[38;5;241m.\u001b[39m_iterable_class(\u001b[38;5;28mself\u001b[39m))\n\u001b[0;32m   1867\u001b[0m     \u001b[38;5;28;01mif\u001b[39;00m \u001b[38;5;28mself\u001b[39m\u001b[38;5;241m.\u001b[39m_prefetch_related_lookups \u001b[38;5;129;01mand\u001b[39;00m \u001b[38;5;129;01mnot\u001b[39;00m \u001b[38;5;28mself\u001b[39m\u001b[38;5;241m.\u001b[39m_prefetch_done:\n\u001b[0;32m   1868\u001b[0m         \u001b[38;5;28mself\u001b[39m\u001b[38;5;241m.\u001b[39m_prefetch_related_objects()\n",
      "File \u001b[1;32mC:\\ProgramData\\anaconda3\\Lib\\site-packages\\django\\db\\models\\query.py:87\u001b[0m, in \u001b[0;36mModelIterable.__iter__\u001b[1;34m(self)\u001b[0m\n\u001b[0;32m     84\u001b[0m compiler \u001b[38;5;241m=\u001b[39m queryset\u001b[38;5;241m.\u001b[39mquery\u001b[38;5;241m.\u001b[39mget_compiler(using\u001b[38;5;241m=\u001b[39mdb)\n\u001b[0;32m     85\u001b[0m \u001b[38;5;66;03m# Execute the query. This will also fill compiler.select, klass_info,\u001b[39;00m\n\u001b[0;32m     86\u001b[0m \u001b[38;5;66;03m# and annotations.\u001b[39;00m\n\u001b[1;32m---> 87\u001b[0m results \u001b[38;5;241m=\u001b[39m compiler\u001b[38;5;241m.\u001b[39mexecute_sql(\n\u001b[0;32m     88\u001b[0m     chunked_fetch\u001b[38;5;241m=\u001b[39m\u001b[38;5;28mself\u001b[39m\u001b[38;5;241m.\u001b[39mchunked_fetch, chunk_size\u001b[38;5;241m=\u001b[39m\u001b[38;5;28mself\u001b[39m\u001b[38;5;241m.\u001b[39mchunk_size\n\u001b[0;32m     89\u001b[0m )\n\u001b[0;32m     90\u001b[0m select, klass_info, annotation_col_map \u001b[38;5;241m=\u001b[39m (\n\u001b[0;32m     91\u001b[0m     compiler\u001b[38;5;241m.\u001b[39mselect,\n\u001b[0;32m     92\u001b[0m     compiler\u001b[38;5;241m.\u001b[39mklass_info,\n\u001b[0;32m     93\u001b[0m     compiler\u001b[38;5;241m.\u001b[39mannotation_col_map,\n\u001b[0;32m     94\u001b[0m )\n\u001b[0;32m     95\u001b[0m model_cls \u001b[38;5;241m=\u001b[39m klass_info[\u001b[38;5;124m\"\u001b[39m\u001b[38;5;124mmodel\u001b[39m\u001b[38;5;124m\"\u001b[39m]\n",
      "File \u001b[1;32mC:\\ProgramData\\anaconda3\\Lib\\site-packages\\django\\db\\models\\sql\\compiler.py:1393\u001b[0m, in \u001b[0;36mSQLCompiler.execute_sql\u001b[1;34m(self, result_type, chunked_fetch, chunk_size)\u001b[0m\n\u001b[0;32m   1391\u001b[0m     cursor \u001b[38;5;241m=\u001b[39m \u001b[38;5;28mself\u001b[39m\u001b[38;5;241m.\u001b[39mconnection\u001b[38;5;241m.\u001b[39mchunked_cursor()\n\u001b[0;32m   1392\u001b[0m \u001b[38;5;28;01melse\u001b[39;00m:\n\u001b[1;32m-> 1393\u001b[0m     cursor \u001b[38;5;241m=\u001b[39m \u001b[38;5;28mself\u001b[39m\u001b[38;5;241m.\u001b[39mconnection\u001b[38;5;241m.\u001b[39mcursor()\n\u001b[0;32m   1394\u001b[0m \u001b[38;5;28;01mtry\u001b[39;00m:\n\u001b[0;32m   1395\u001b[0m     cursor\u001b[38;5;241m.\u001b[39mexecute(sql, params)\n",
      "File \u001b[1;32mC:\\ProgramData\\anaconda3\\Lib\\site-packages\\django\\utils\\asyncio.py:24\u001b[0m, in \u001b[0;36masync_unsafe.<locals>.decorator.<locals>.inner\u001b[1;34m(*args, **kwargs)\u001b[0m\n\u001b[0;32m     22\u001b[0m \u001b[38;5;28;01melse\u001b[39;00m:\n\u001b[0;32m     23\u001b[0m     \u001b[38;5;28;01mif\u001b[39;00m \u001b[38;5;129;01mnot\u001b[39;00m os\u001b[38;5;241m.\u001b[39menviron\u001b[38;5;241m.\u001b[39mget(\u001b[38;5;124m\"\u001b[39m\u001b[38;5;124mDJANGO_ALLOW_ASYNC_UNSAFE\u001b[39m\u001b[38;5;124m\"\u001b[39m):\n\u001b[1;32m---> 24\u001b[0m         \u001b[38;5;28;01mraise\u001b[39;00m SynchronousOnlyOperation(message)\n\u001b[0;32m     25\u001b[0m \u001b[38;5;66;03m# Pass onward.\u001b[39;00m\n\u001b[0;32m     26\u001b[0m \u001b[38;5;28;01mreturn\u001b[39;00m func(\u001b[38;5;241m*\u001b[39margs, \u001b[38;5;241m*\u001b[39m\u001b[38;5;241m*\u001b[39mkwargs)\n",
      "\u001b[1;31mSynchronousOnlyOperation\u001b[0m: You cannot call this from an async context - use a thread or sync_to_async."
     ]
    },
    {
     "data": {
      "text/plain": [
       "<Figure size 1500x750 with 0 Axes>"
      ]
     },
     "metadata": {},
     "output_type": "display_data"
    }
   ],
   "source": [
    "#given a list of books, goes through them and finds books which are not excluded\n",
    "#then processes and plots them \n",
    "\n",
    "#requires bookclass.py\n",
    "\n",
    "plt.figure(figsize=(15,7.5))\n",
    "for i,b in enumerate(q):\n",
    "    print(b.title)\n",
    "    for a in b.authors.all():\n",
    "        print(a)\n",
    "    print(b.exclude)\n",
    "    print(b.excludeReason)\n",
    "    print(b.gutenberg_id)\n",
    "    HTML(\"http://www.gutenberg.org/ebooks/{0}/\".format(b.gutenberg_id))\n",
    "    if not b.exclude:\n",
    "        b_data = Book_raw_data(b)\n",
    "        #below function is found in bookclass.py\n",
    "        a = b_data.chopper_sliding(my_LabMT,num_points=200,stop_val=1.0)  #mylabMT seems to be Hedonometer words?\n",
    "        plt.subplot(2,2,i+1)\n",
    "        plt.plot(b_data.timeseries)\n",
    "        plt.title(\"{0} ({1})\".format(b.title,b.gutenberg_id))"
   ]
  },
  {
   "cell_type": "markdown",
   "id": "9e380f48",
   "metadata": {},
   "source": [
    "Okay, let's try feeding our own book in"
   ]
  },
  {
   "cell_type": "code",
   "execution_count": null,
   "id": "0f134503",
   "metadata": {},
   "outputs": [],
   "source": [
    "sys.path.append('C:/Users/Owner/Documents/GitHub/narrative-recommend/books')"
   ]
  },
  {
   "cell_type": "code",
   "execution_count": null,
   "id": "33539218",
   "metadata": {},
   "outputs": [],
   "source": []
  }
 ],
 "metadata": {
  "kernelspec": {
   "display_name": "Python 3 (ipykernel)",
   "language": "python",
   "name": "python3"
  },
  "language_info": {
   "codemirror_mode": {
    "name": "ipython",
    "version": 3
   },
   "file_extension": ".py",
   "mimetype": "text/x-python",
   "name": "python",
   "nbconvert_exporter": "python",
   "pygments_lexer": "ipython3",
   "version": "3.11.5"
  }
 },
 "nbformat": 4,
 "nbformat_minor": 5
}
