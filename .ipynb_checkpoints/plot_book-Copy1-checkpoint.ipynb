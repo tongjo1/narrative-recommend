{
 "cells": [
  {
   "cell_type": "markdown",
   "id": "e40e33bd-7761-4995-b9c5-7361b018137d",
   "metadata": {},
   "source": [
    "The following function, when given a raw text, will generate the sentiment scores for the windows of a book."
   ]
  },
  {
   "cell_type": "code",
   "execution_count": 1,
   "id": "635993bd-d5da-4859-94ae-4a0b9ee24148",
   "metadata": {},
   "outputs": [],
   "source": [
    "#Imports:\n",
    "import os\n",
    "import sys\n",
    "import pickle\n",
    "#if you want the dogtoys module, feed the path here and uncomment\n",
    "sys.path.append('/Users/Owner/Documents/GitHub/narrative-recommend')\n",
    "from kitchentable.dogtoys import *\n",
    "\n",
    "from json import loads\n",
    "from re import findall,UNICODE\n",
    "\n",
    "from labMTsimple.speedy import LabMT \n",
    "my_LabMT = LabMT()   # <---- Can replace this with whatever sentiment ratings you want\n",
    "from labMTsimple.storyLab import *\n",
    "\n",
    "from spacy.lang.en import English\n",
    "nlp = English()\n",
    "from scipy.sparse import lil_matrix,issparse\n",
    "\n",
    "import numpy as np\n",
    "from database.bookclass import *\n",
    "import pickle\n",
    "\n",
    "sys.path.append('/Users/Owner/Documents/GitHub/narrative-recommend/gutenberg_books')  #this line needs to give path for where your books folder is\n",
    "#sys.path.append('/Users/Owner/Documents/GitHub/narrative-recommend/database')\n",
    "\n",
    "#from library.models import *\n",
    "\n",
    "from datetime import datetime\n",
    "\n",
    "# all our essentials\n",
    "from matplotlib import rc,rcParams\n",
    "# rc('font', family='sans-serif') \n",
    "# rc('font', serif='Helvetica Neue')\n",
    "# rc('text', usetex='false') \n",
    "\n",
    "rc('font', family='serif')\n",
    "rc('font', family='cmr10')\n",
    "rc('text', usetex='false') \n",
    "\n",
    "rcParams.update({'font.size': 12})\n",
    "import matplotlib.pyplot as plt\n",
    "%matplotlib inline"
   ]
  },
  {
   "cell_type": "code",
   "execution_count": 39,
   "id": "f46eeb48-cbd3-4083-9fe5-92ddaa245fce",
   "metadata": {},
   "outputs": [],
   "source": [
    "#Cleans a book.  Taken from andy's code.\n",
    "#GUTENBERG ONLY\n",
    "def get_maintext_lines_gutenberg(raw_text):\n",
    "    raw_text = raw_text.read()\n",
    "    lines = raw_text.split(\"\\n\")\n",
    "    start_book_i = 0\n",
    "    end_book_i = len(lines)-1\n",
    "    start_title_i = 0\n",
    "    end_title_i = len(lines)-1\n",
    "    end_title_best = len(lines)-1\n",
    "\n",
    "    # pass 1\n",
    "    title_start = \"Title: \"\n",
    "    title_end1 = \"Author:\"\n",
    "    #some books don't have authors!\n",
    "    title_end2 = \"Editor:\"\n",
    "    start1=\"START OF THIS PROJECT GUTENBERG EBOOK\"\n",
    "    start2=\"START OF THE PROJECT GUTENBERG EBOOK\"\n",
    "    end1=\"END OF THIS PROJECT GUTENBERG EBOOK\"\n",
    "    end2=\"END OF THE PROJECT GUTENBERG EBOOK\"\n",
    "    end3=\"END OF PROJECT GUTENBERG\"\n",
    "    for j,line in enumerate(lines):\n",
    "        if (start1 in line) or (start2 in line):\n",
    "            # and \"***\" in line and start_book[i] == 0 and j<.25*len(lines):\n",
    "            start_book_i = j\n",
    "        end_in_line = end1 in line or end2 in line or end3 in line.upper()\n",
    "        if end_in_line and (end_book_i == (len(lines)-1)):\n",
    "            #  and \"***\" in line and j>.75*len(lines)\n",
    "            end_book_i = j\n",
    "        #below if statements capture the title from a txt file\n",
    "        if (title_start in line):\n",
    "            start_title_i = j\n",
    "        if (title_end1 in line or title_end2 in line):\n",
    "            #in case author appears multiple times, need to find the lowest\n",
    "            if (j < end_title_best):\n",
    "                end_title_i = j\n",
    "                end_title_best = j\n",
    "    # pass 2, this will bring us to 99%\n",
    "    if (start_book_i == 0) and (end_book_i == len(lines)-1):\n",
    "        for j,line in enumerate(lines):\n",
    "            if (\"end\" in line.lower() or \"****\" in line) and  \"small print\" in line.lower() and j<.5*len(lines):\n",
    "                start_book_i = j\n",
    "            if \"end\" in line.lower() and \"project gutenberg\" in line.lower() and j>.75*len(lines):\n",
    "                end_book_i = j\n",
    "        # pass three, caught them all (check)\n",
    "        if end_book_i == len(lines)-1:\n",
    "            for j,line in enumerate(lines):\n",
    "                if \"THE END\" in line and j>.9*len(lines):\n",
    "                    end_book_i = j\n",
    "\n",
    "    #print(lines[(start_title_i):(end_title_i-1)])\n",
    "    title = lines[(start_title_i):(end_title_i)]\n",
    "    return title, lines[(start_book_i+1):(end_book_i)]"
   ]
  },
  {
   "cell_type": "code",
   "execution_count": 40,
   "id": "9ff8f886-3acf-4895-9ef6-98b7ab545bf3",
   "metadata": {},
   "outputs": [],
   "source": [
    "def score_book(book_file):\n",
    "    word_list = []\n",
    "    timeseries = None\n",
    "\n",
    "    # Hyperparameters for generating timeseries: play around!\n",
    "    num_points = 200\n",
    "    min_size = 10000\n",
    "    stop_val = 2.0\n",
    "    \n",
    "    #get raw text\n",
    "    #need to check encoding before reading\n",
    "    #either utf-8 or ISO\n",
    "    print(\"Current file:\", book_file)\n",
    "    if \"-8.txt\" in book_file:\n",
    "        b_data = open(book_file, \"r\", encoding=\"ISO-8859-1\")\n",
    "    else:\n",
    "        b_data = open(book_file, \"r\", encoding=\"utf8\")\n",
    "    #then preprocess/clean it\n",
    "    title, b_data = (get_maintext_lines_gutenberg(b_data))\n",
    "\n",
    "    #this gets every single sentence from the book\n",
    "    chunks = chunkify(b_data)\n",
    "    #and this puts them back into list format\n",
    "    chunks = list(map(lambda x: [x[0],x[1],nlp(x[2]),x[2]],chunks))   \n",
    "\n",
    "    #then create word_list\n",
    "    for chunk in chunks:\n",
    "        for token in chunk[2]:\n",
    "            #We grab each individual word from the chunk[2], which is the sentence\n",
    "            #and append to word_list if it's not in there\n",
    "            if (not token.is_punct) and (len(str(token)) != 0):\n",
    "                word_list.append(str(token)) # get token.orth_\n",
    "\n",
    "    step = int(floor((len(word_list)-min_size)/(num_points-1)))\n",
    "\n",
    "    #build matrix with this function:\n",
    "    def build_matrix(num_points,word_list,step,min_size,my_senti_dict):\n",
    "        '''Build the matrix of overlapping word vectors.'''\n",
    "        # disregard the existing matrix, it might not be the right size\n",
    "        all_fvecs = lil_matrix((num_points,len(my_senti_dict.scorelist)),dtype=\"i\")\n",
    "        for i in range(num_points-1):\n",
    "            all_fvecs[i,:] = my_senti_dict.wordVecify(dictify(word_list[(i*step):(min_size+i*step)]))\n",
    "        i = num_points-1\n",
    "        all_fvecs[i,:] = my_senti_dict.wordVecify(dictify(word_list[(i*step):]))\n",
    "        return all_fvecs  #returns overlapping word vectors\n",
    "        \n",
    "    all_fvecs = build_matrix(num_points,word_list,step,min_size,my_LabMT).tocsr()\n",
    "    \n",
    "    timeseries = [0 for i in range(num_points)]\n",
    "    for i in range(num_points):\n",
    "        text_fvec = all_fvecs[i,:].toarray().squeeze()\n",
    "        stoppedVec = stopper(text_fvec,my_LabMT.scorelist,my_LabMT.wordlist,stopVal=stop_val)  #NOTE: stopper comes from storylab MT\n",
    "        timeseries[i] = dot(my_LabMT.scorelist,stoppedVec)/sum(stoppedVec)\n",
    "    \n",
    "    return title, timeseries"
   ]
  },
  {
   "cell_type": "code",
   "execution_count": 41,
   "id": "456d29ab-9ab8-447b-9201-15b2a70a1184",
   "metadata": {
    "scrolled": true
   },
   "outputs": [
    {
     "name": "stdout",
     "output_type": "stream",
     "text": [
      "Current file: C:\\Users\\Owner\\Documents\\GitHub\\New folder\\books\\10001.txt\n"
     ]
    },
    {
     "name": "stderr",
     "output_type": "stream",
     "text": [
      "C:\\Users\\Owner\\AppData\\Local\\Temp\\ipykernel_5276\\1755352897.py:53: RuntimeWarning: invalid value encountered in scalar divide\n",
      "  timeseries[i] = dot(my_LabMT.scorelist,stoppedVec)/sum(stoppedVec)\n"
     ]
    },
    {
     "name": "stdout",
     "output_type": "stream",
     "text": [
      "Apocolocyntosis\n",
      "Current file: C:\\Users\\Owner\\Documents\\GitHub\\New folder\\books\\10002-8.txt\n",
      "The House on the Borderland\n",
      "Current file: C:\\Users\\Owner\\Documents\\GitHub\\New folder\\books\\10003.txt\n",
      "My First Years As A Frenchwoman, 1876-1879\n",
      "Current file: C:\\Users\\Owner\\Documents\\GitHub\\New folder\\books\\10004-8.txt\n",
      "The Warriors\n",
      "Current file: C:\\Users\\Owner\\Documents\\GitHub\\New folder\\books\\10005-8.txt\n",
      "A Voyage to the Moon\n",
      "Current file: C:\\Users\\Owner\\Documents\\GitHub\\New folder\\books\\10006-8.txt\n",
      "La Fiammetta\n",
      "Current file: C:\\Users\\Owner\\Documents\\GitHub\\New folder\\books\\10007-0.txt\n",
      "Carmilla\n",
      "Current file: C:\\Users\\Owner\\Documents\\GitHub\\New folder\\books\\10008-8.txt\n",
      "The Mystery\n",
      "Current file: C:\\Users\\Owner\\Documents\\GitHub\\New folder\\books\\10009.txt\n",
      "Wild Northern Scenes       Sporting Adventures with the Rifle and the Rod\n",
      "Current file: C:\\Users\\Owner\\Documents\\GitHub\\New folder\\books\\10010.txt\n",
      "The Eulogies of Howard\n",
      "Current file: C:\\Users\\Owner\\Documents\\GitHub\\New folder\\books\\10011-8.txt\n",
      "365 Foreign Dishes\n",
      "Current file: C:\\Users\\Owner\\Documents\\GitHub\\New folder\\books\\10013-8.txt\n",
      "Punchinello, Vol. 1, No. 9, May 28, 1870\n",
      "Current file: C:\\Users\\Owner\\Documents\\GitHub\\New folder\\books\\10014-8.txt\n",
      "Punchinello, Vol. 1, No. 18, July 30, 1870\n",
      "Current file: C:\\Users\\Owner\\Documents\\GitHub\\New folder\\books\\10015.txt\n",
      "Punchinello, Vol. 1, No. 19, August 6, 1870\n",
      "Current file: C:\\Users\\Owner\\Documents\\GitHub\\New folder\\books\\10016-8.txt\n",
      "Punchinello Vol. 1, No. 21, August 20, 1870\n",
      "Current file: C:\\Users\\Owner\\Documents\\GitHub\\New folder\\books\\10017-8.txt\n",
      "Punchinello, Vol. 1, No. 23,  September 3, 1870\n",
      "Current file: C:\\Users\\Owner\\Documents\\GitHub\\New folder\\books\\10018-8.txt\n",
      "Punchinello, Vol. 1, No. 5,  April 30, 1870\n",
      "Current file: C:\\Users\\Owner\\Documents\\GitHub\\New folder\\books\\10019-8.txt\n",
      "Punchinello, Vol. 1, No. 22, August 27, 1870\n",
      "Current file: C:\\Users\\Owner\\Documents\\GitHub\\New folder\\books\\10021-8.txt\n",
      "Tenterhooks\n",
      "Current file: C:\\Users\\Owner\\Documents\\GitHub\\New folder\\books\\10022.txt\n",
      "White Queen of the Cannibals: The Story of Mary Slessor\n",
      "Current file: C:\\Users\\Owner\\Documents\\GitHub\\New folder\\books\\10023.txt\n",
      "There's Pippins And Cheese To Come\n",
      "Current file: C:\\Users\\Owner\\Documents\\GitHub\\New folder\\books\\10024-8.txt\n",
      "Beneath the Banner\n",
      "Current file: C:\\Users\\Owner\\Documents\\GitHub\\New folder\\books\\10025-8.txt\n",
      "Gaslight Sonatas\n",
      "Current file: C:\\Users\\Owner\\Documents\\GitHub\\New folder\\books\\10026-8.txt\n",
      "The Mirror of Literature, Amusement, and Instruction, Vol. 10,Issue 268, August 11, 1827\n",
      "Current file: C:\\Users\\Owner\\Documents\\GitHub\\New folder\\books\\10027.txt\n",
      "The Triple Alliance\n",
      "Current file: C:\\Users\\Owner\\Documents\\GitHub\\New folder\\books\\10028.txt\n",
      "Spalding's Official Baseball Guide - 1913\n",
      "Current file: C:\\Users\\Owner\\Documents\\GitHub\\New folder\\books\\10029-8.txt\n",
      "The Hunt Ball Mystery\n",
      "Current file: C:\\Users\\Owner\\Documents\\GitHub\\New folder\\books\\10030-8.txt\n",
      "The Life of Hon. William F. Cody       Known as Buffalo Bill The Famous Hunter, Scout and Guide\n",
      "Current file: C:\\Users\\Owner\\Documents\\GitHub\\New folder\\books\\10032-8.txt\n",
      "Punchinello, Vol. 1, No. 24, September 10, 1870\n",
      "Current file: C:\\Users\\Owner\\Documents\\GitHub\\New folder\\books\\10033-8.txt\n",
      "Punchinello, Vol. 1, No. 25, September 17, 1870\n",
      "Current file: C:\\Users\\Owner\\Documents\\GitHub\\New folder\\books\\10034-8.txt\n",
      "Punchinello, Vol. 1, No. 26, September 24, 1870\n",
      "Current file: C:\\Users\\Owner\\Documents\\GitHub\\New folder\\books\\10035-8.txt\n",
      "Punchinello, Vol. 2, No. 27, October 1, 1870\n",
      "Current file: C:\\Users\\Owner\\Documents\\GitHub\\New folder\\books\\10036-8.txt\n",
      "Punchinello Vol. 2, No. 28, October 8, 1870\n",
      "Current file: C:\\Users\\Owner\\Documents\\GitHub\\New folder\\books\\10037-8.txt\n",
      "A Beautiful Possibility\n",
      "Current file: C:\\Users\\Owner\\Documents\\GitHub\\New folder\\books\\10038-8.txt\n",
      "The Magnetic North\n",
      "Current file: C:\\Users\\Owner\\Documents\\GitHub\\New folder\\books\\10039-8.txt\n",
      "The Works of Aphra Behn, Vol. III\n",
      "Current file: C:\\Users\\Owner\\Documents\\GitHub\\New folder\\books\\10040.txt\n",
      "Alaska Indian DictionaryAleutian Indian and English Dictionary: Common Words In The Dialects OfThe Aleutian Indian Language: As Spoken By The Oogashik, Egashik, Egegik,Anangashuk And Misremie Tribes Around Sulima River And Neighboring PartsOf The Alaska Peninsula\n"
     ]
    },
    {
     "ename": "FileNotFoundError",
     "evalue": "[Errno 2] No such file or directory: 'book_timeseries\\\\Alaska Indian DictionaryAleutian Indian and English Dictionary: Common Words In The Dialects OfThe Aleutian Indian Language: As Spoken By The Oogashik, Egashik, Egegik,Anangashuk And Misremie Tribes Around Sulima River And Neighboring PartsOf The Alaska Peninsula_timeseries.txt'",
     "output_type": "error",
     "traceback": [
      "\u001b[1;31m---------------------------------------------------------------------------\u001b[0m",
      "\u001b[1;31mFileNotFoundError\u001b[0m                         Traceback (most recent call last)",
      "Cell \u001b[1;32mIn[41], line 27\u001b[0m\n\u001b[0;32m     25\u001b[0m completeName \u001b[38;5;241m=\u001b[39m os\u001b[38;5;241m.\u001b[39mpath\u001b[38;5;241m.\u001b[39mjoin(save_path, title\u001b[38;5;241m+\u001b[39m\u001b[38;5;124m\"\u001b[39m\u001b[38;5;124m_timeseries.txt\u001b[39m\u001b[38;5;124m\"\u001b[39m)      \n\u001b[0;32m     26\u001b[0m \u001b[38;5;66;03m#Pickle implementation\u001b[39;00m\n\u001b[1;32m---> 27\u001b[0m pickle\u001b[38;5;241m.\u001b[39mdump(timeseries, \u001b[38;5;28mopen\u001b[39m(completeName, \u001b[38;5;124m'\u001b[39m\u001b[38;5;124mwb\u001b[39m\u001b[38;5;124m'\u001b[39m))\n",
      "File \u001b[1;32mC:\\ProgramData\\anaconda3\\Lib\\site-packages\\IPython\\core\\interactiveshell.py:310\u001b[0m, in \u001b[0;36m_modified_open\u001b[1;34m(file, *args, **kwargs)\u001b[0m\n\u001b[0;32m    303\u001b[0m \u001b[38;5;28;01mif\u001b[39;00m file \u001b[38;5;129;01min\u001b[39;00m {\u001b[38;5;241m0\u001b[39m, \u001b[38;5;241m1\u001b[39m, \u001b[38;5;241m2\u001b[39m}:\n\u001b[0;32m    304\u001b[0m     \u001b[38;5;28;01mraise\u001b[39;00m \u001b[38;5;167;01mValueError\u001b[39;00m(\n\u001b[0;32m    305\u001b[0m         \u001b[38;5;124mf\u001b[39m\u001b[38;5;124m\"\u001b[39m\u001b[38;5;124mIPython won\u001b[39m\u001b[38;5;124m'\u001b[39m\u001b[38;5;124mt let you open fd=\u001b[39m\u001b[38;5;132;01m{\u001b[39;00mfile\u001b[38;5;132;01m}\u001b[39;00m\u001b[38;5;124m by default \u001b[39m\u001b[38;5;124m\"\u001b[39m\n\u001b[0;32m    306\u001b[0m         \u001b[38;5;124m\"\u001b[39m\u001b[38;5;124mas it is likely to crash IPython. If you know what you are doing, \u001b[39m\u001b[38;5;124m\"\u001b[39m\n\u001b[0;32m    307\u001b[0m         \u001b[38;5;124m\"\u001b[39m\u001b[38;5;124myou can use builtins\u001b[39m\u001b[38;5;124m'\u001b[39m\u001b[38;5;124m open.\u001b[39m\u001b[38;5;124m\"\u001b[39m\n\u001b[0;32m    308\u001b[0m     )\n\u001b[1;32m--> 310\u001b[0m \u001b[38;5;28;01mreturn\u001b[39;00m io_open(file, \u001b[38;5;241m*\u001b[39margs, \u001b[38;5;241m*\u001b[39m\u001b[38;5;241m*\u001b[39mkwargs)\n",
      "\u001b[1;31mFileNotFoundError\u001b[0m: [Errno 2] No such file or directory: 'book_timeseries\\\\Alaska Indian DictionaryAleutian Indian and English Dictionary: Common Words In The Dialects OfThe Aleutian Indian Language: As Spoken By The Oogashik, Egashik, Egegik,Anangashuk And Misremie Tribes Around Sulima River And Neighboring PartsOf The Alaska Peninsula_timeseries.txt'"
     ]
    }
   ],
   "source": [
    "## Does all books in a folder \n",
    "# To do one book, run the below cells\n",
    "# There is also a function version of this in the next cell\n",
    "\n",
    "#C:\\Users\\Owner\\Documents\\GitHub\\New folder\\books\n",
    "directory = r\"C:\\Users\\Owner\\Documents\\GitHub\\New folder\\books\"\n",
    "for filename in os.listdir(directory):\n",
    "    f = os.path.join(directory, filename)\n",
    "    # checking if it is a file\n",
    "    if os.path.isfile(f):\n",
    "        #if it's a file, grab and score\n",
    "        book_file = f\n",
    "        \n",
    "        #calc timeseries\n",
    "        title, timeseries = score_book(book_file)  #preprocesses text here\n",
    "        my_string = \"\".join(str(element) for element in title)\n",
    "        title = my_string.replace(\"Title: \", '')\n",
    "        print(title)\n",
    "        remove_list=[directory, \".txt\"]\n",
    "        #title = book_file.replace(\"gutenberg_books\\\\\", '')\n",
    "        #title = title.replace(\".txt\", '')\n",
    "        \n",
    "        #save to folder\n",
    "        save_path = \"book_timeseries\"\n",
    "        completeName = os.path.join(save_path, title+\"_timeseries.txt\")      \n",
    "        #Pickle implementation\n",
    "        pickle.dump(timeseries, open(completeName, 'wb'))\n",
    "\n",
    "        #os implementation -- gave me probs reading and converting back to float later\n",
    "        #file = open(completeName,'w')\n",
    "        #for item in test:\n",
    "            #print(item)\n",
    "            #file.write(str(item)+\"\\n\")\n",
    "        #file.close()\n",
    "        "
   ]
  },
  {
   "cell_type": "code",
   "execution_count": 1,
   "id": "52055088-fc0f-48e4-9009-9eebf344c0cd",
   "metadata": {},
   "outputs": [],
   "source": [
    "## Function version of above\n",
    "def plot_books(input):\n",
    "    directory = input\n",
    "    for filename in os.listdir(directory):\n",
    "        f = os.path.join(directory, filename)\n",
    "        # checking if it is a file\n",
    "        if os.path.isfile(f):\n",
    "            #if it's a file, grab and score\n",
    "            book_file = f\n",
    "            test = score_book(book_file)\n",
    "            #then write timeseries\n",
    "            remove_list=[\"gutenberg_books\\\"\", \".txt\"]\n",
    "            title = book_file.replace(\"gutenberg_books\\\\\", '')\n",
    "            title = title.replace(\".txt\", '')\n",
    "            #print(title)\n",
    "            \n",
    "            #save to folder\n",
    "            save_path = \"book_timeseries\"\n",
    "            name_of_file = title\n",
    "            completeName = os.path.join(save_path, name_of_file+\"_timeseries.txt\")      \n",
    "            file = open(completeName,'w')\n",
    "            for item in test:\n",
    "                #print(item)\n",
    "                file.write(str(item)+\"\\n\")\n",
    "            file.close()"
   ]
  },
  {
   "cell_type": "code",
   "execution_count": 22,
   "id": "f750ff05-9b3c-4f89-b27b-6ec6c11a0d96",
   "metadata": {
    "scrolled": true
   },
   "outputs": [],
   "source": [
    "# One book\n",
    "book_file = \"gutenberg_books\\Divine_comedy.txt\"\n",
    "test = score_book(book_file)"
   ]
  },
  {
   "cell_type": "code",
   "execution_count": 5,
   "id": "670953ea-fc88-47a7-bb4f-23ff5227eace",
   "metadata": {
    "scrolled": true
   },
   "outputs": [
    {
     "name": "stderr",
     "output_type": "stream",
     "text": [
      "C:\\Users\\Owner\\AppData\\Local\\Temp\\ipykernel_10752\\850933151.py:3: UserWarning: cmr10 font should ideally be used with mathtext, set axes.formatter.use_mathtext to True\n",
      "  plt.plot(test,linewidth=1.5,color=\".2\")\n"
     ]
    },
    {
     "data": {
      "text/plain": [
       "Text(0.5, 0, 'Narrative Time')"
      ]
     },
     "execution_count": 5,
     "metadata": {},
     "output_type": "execute_result"
    },
    {
     "data": {
      "image/png": "[encoded data removed]",
      "text/plain": [
       "<Figure size 800x500 with 1 Axes>"
      ]
     },
     "metadata": {},
     "output_type": "display_data"
    }
   ],
   "source": [
    "#now plot it!\n",
    "plt.figure(figsize=(8,5))\n",
    "plt.plot(test,linewidth=1.5,color=\".2\")\n",
    "plt.ylabel(\"Sentiment\")\n",
    "plt.xlabel(\"Narrative Time\")"
   ]
  },
  {
   "cell_type": "code",
   "execution_count": 16,
   "id": "8d795cd8-0545-420f-ae5d-bd0cb08ace7c",
   "metadata": {
    "scrolled": true
   },
   "outputs": [
    {
     "name": "stdout",
     "output_type": "stream",
     "text": [
      "Divine_comedy\n"
     ]
    }
   ],
   "source": [
    "#save timeseries to file\n",
    "\n",
    "#get title\n",
    "remove_list=[\"gutenberg_books\\\"\", \".txt\"]\n",
    "title = book_file.replace(\"gutenberg_books\\\\\", '')\n",
    "title = title.replace(\".txt\", '')\n",
    "print(title)\n",
    "\n",
    "#save to folder\n",
    "save_path = \"book_timeseries\"\n",
    "\n",
    "name_of_file = title\n",
    "completeName = os.path.join(save_path, name_of_file+\"_timeseries.txt\")      \n",
    "file = open(completeName,'w')\n",
    "for item in test:\n",
    "    #print(item)\n",
    "    file.write(str(item)+\"\\n\")\n",
    "file.close()"
   ]
  },
  {
   "cell_type": "code",
   "execution_count": null,
   "id": "3e0bcbba-cd01-412c-9cf7-184ce9d5e104",
   "metadata": {},
   "outputs": [],
   "source": []
  }
 ],
 "metadata": {
  "kernelspec": {
   "display_name": "Python 3 (ipykernel)",
   "language": "python",
   "name": "python3"
  },
  "language_info": {
   "codemirror_mode": {
    "name": "ipython",
    "version": 3
   },
   "file_extension": ".py",
   "mimetype": "text/x-python",
   "name": "python",
   "nbconvert_exporter": "python",
   "pygments_lexer": "ipython3",
   "version": "3.11.8"
  }
 },
 "nbformat": 4,
 "nbformat_minor": 5
}
