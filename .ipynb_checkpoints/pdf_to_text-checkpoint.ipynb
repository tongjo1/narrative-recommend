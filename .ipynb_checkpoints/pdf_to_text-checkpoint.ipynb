{
 "cells": [
  {
   "cell_type": "code",
   "execution_count": 23,
   "id": "077ac4f9-93dc-4602-8ee3-336497e25183",
   "metadata": {},
   "outputs": [],
   "source": [
    "from PyPDF2 import PdfReader\n",
    "\n",
    "#this function takes a pdf file and converts it to text\n",
    "#include '.pdf'\n",
    "#NOTE: Does NOT do preprocesssing of text\n",
    "def pdf_to_text(book_title):\n",
    "    reader = PdfReader(book_title)\n",
    "    book = \"\"\n",
    "    \n",
    "    for i in (range(len(reader.pages))):\n",
    "    # getting a specific page from the pdf file \n",
    "        page = reader.pages[i] \n",
    "      \n",
    "        # extracting text from page \n",
    "        text = page.extract_text()  \n",
    "        #concat to text\n",
    "        book += text\n",
    "\n",
    "    #write out\n",
    "    out_file_name = book_title.replace('.pdf', '')\n",
    "    out_file_name += \".txt\"\n",
    "    file1 = open(out_file_name, \"w\", encoding=\"utf-8\") \n",
    "    file1.write(book)\n",
    "    file1.close()"
   ]
  },
  {
   "cell_type": "code",
   "execution_count": 24,
   "id": "099b0433-8a06-4ba8-bdff-6cee8e58643f",
   "metadata": {},
   "outputs": [],
   "source": [
    "pdf_to_text(\"LordOfTheRings.pdf\")"
   ]
  },
  {
   "cell_type": "code",
   "execution_count": null,
   "id": "a48f797b-9ff7-4b65-936c-e78224335338",
   "metadata": {},
   "outputs": [],
   "source": []
  }
 ],
 "metadata": {
  "kernelspec": {
   "display_name": "Python 3 (ipykernel)",
   "language": "python",
   "name": "python3"
  },
  "language_info": {
   "codemirror_mode": {
    "name": "ipython",
    "version": 3
   },
   "file_extension": ".py",
   "mimetype": "text/x-python",
   "name": "python",
   "nbconvert_exporter": "python",
   "pygments_lexer": "ipython3",
   "version": "3.11.8"
  }
 },
 "nbformat": 4,
 "nbformat_minor": 5
}
