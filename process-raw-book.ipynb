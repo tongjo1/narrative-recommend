{
 "cells": [
  {
   "cell_type": "markdown",
   "id": "85eae5b2",
   "metadata": {},
   "source": [
    "Okay, after downloading the raw text file we first need to follow the original guidelines on cutting out the irrelevant parts(?)."
   ]
  },
  {
   "cell_type": "code",
   "execution_count": null,
   "id": "2c3655e3",
   "metadata": {},
   "outputs": [],
   "source": [
    "#from bookclass.py\n",
    "\n",
    "class Book_raw_data(object):\n",
    "    '''Book class to handle loading the calibre expanded epub format.\n",
    "    Or just a text file.\n",
    "\n",
    "    Now closely wrapping the database.\n",
    "\n",
    "    Initialize with an instrance of the database like this:\n",
    "    b = Book.objects.all()[0]\n",
    "    b_data = Book_raw_data(b)\n",
    "\n",
    "    Store all of the word lists, etc, in one place.'''\n",
    "    \n",
    "    \n",
    "    def __init__(self,dbref):\n",
    "        self.all_word_list = []\n",
    "        self.random_word_list = []\n",
    "        self.cache_dir = \"/Users/andyreagan/projects/2014/09-books/data/cache\"\n",
    "        self.chunks_nlp = []\n",
    "        # remember it's better to add by row\n",
    "        # default to this size...\n",
    "        self.all_fvecs = lil_matrix((200,10222),dtype=\"i\")\n",
    "        self.timeseries = None\n",
    "        self.centers = None\n",
    "        self.this_Book = dbref\n",
    "\n",
    "        # if self.Book.expanded_folder_path:\n",
    "        #     self.load_all_chapters()\n",
    "        # elif self.Book.txt_file_path:\n",
    "        #     self.load_all_combined()\n",
    "\n",
    "        # print(str(self))\n",
    "\n",
    "        # will need to handle the metadata more generally...\n",
    "        # f = open(join(\"data/Kindle-combined-txt\",str(isbn),\"meta.json\"),\"r\")\n",
    "        # self.metadata = loads(f.read())\n",
    "        # f.close()\n",
    "        # # print(\"this is the metadata:\")\n",
    "        # # print(self.metadata)\n",
    "\n",
    "    def __str__(self):\n",
    "        if len(self.this_Book.title) > 0:\n",
    "            return \"Book_raw_data \"+self.this_Book.title\n",
    "        else:\n",
    "            return \"Book_raw_data (no title)\""
   ]
  },
  {
   "cell_type": "code",
   "execution_count": null,
   "id": "ca3c3b55",
   "metadata": {},
   "outputs": [],
   "source": []
  }
 ],
 "metadata": {
  "kernelspec": {
   "display_name": "Python 3 (ipykernel)",
   "language": "python",
   "name": "python3"
  },
  "language_info": {
   "codemirror_mode": {
    "name": "ipython",
    "version": 3
   },
   "file_extension": ".py",
   "mimetype": "text/x-python",
   "name": "python",
   "nbconvert_exporter": "python",
   "pygments_lexer": "ipython3",
   "version": "3.11.5"
  }
 },
 "nbformat": 4,
 "nbformat_minor": 5
}
