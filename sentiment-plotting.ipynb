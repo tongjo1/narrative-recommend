{
 "cells": [
  {
   "cell_type": "markdown",
   "id": "f7c91350",
   "metadata": {},
   "source": [
    "Relevant code to generate sentiment arcs given text (taken from 6 shapes paper):\n",
    "https://github.com/andyreagan/core-stories (see to download dataset)\n",
    "\n",
    "Database was created from RDF files from gutenberg (see Fill-data for more)"
   ]
  },
  {
   "cell_type": "code",
   "execution_count": 6,
   "id": "2c8ebe1d",
   "metadata": {
    "scrolled": true
   },
   "outputs": [
    {
     "ename": "ModuleNotFoundError",
     "evalue": "No module named 'kitchentable'",
     "output_type": "error",
     "traceback": [
      "\u001b[1;31m---------------------------------------------------------------------------\u001b[0m",
      "\u001b[1;31mModuleNotFoundError\u001b[0m                       Traceback (most recent call last)",
      "Cell \u001b[1;32mIn[6], line 7\u001b[0m\n\u001b[0;32m      4\u001b[0m \u001b[38;5;28;01mimport\u001b[39;00m \u001b[38;5;21;01msys\u001b[39;00m\n\u001b[0;32m      5\u001b[0m sys\u001b[38;5;241m.\u001b[39mpath\u001b[38;5;241m.\u001b[39mappend(\u001b[38;5;124m\"\u001b[39m\u001b[38;5;124m/Users/andyreagan/tools/python\u001b[39m\u001b[38;5;124m\"\u001b[39m)\n\u001b[1;32m----> 7\u001b[0m \u001b[38;5;28;01mfrom\u001b[39;00m \u001b[38;5;21;01mkitchentable\u001b[39;00m\u001b[38;5;21;01m.\u001b[39;00m\u001b[38;5;21;01mdogtoys\u001b[39;00m \u001b[38;5;28;01mimport\u001b[39;00m \u001b[38;5;241m*\u001b[39m\n\u001b[0;32m      9\u001b[0m \u001b[38;5;28;01mfrom\u001b[39;00m \u001b[38;5;21;01mjson\u001b[39;00m \u001b[38;5;28;01mimport\u001b[39;00m loads\n\u001b[0;32m     10\u001b[0m \u001b[38;5;28;01mfrom\u001b[39;00m \u001b[38;5;21;01mre\u001b[39;00m \u001b[38;5;28;01mimport\u001b[39;00m findall,UNICODE\n",
      "\u001b[1;31mModuleNotFoundError\u001b[0m: No module named 'kitchentable'"
     ]
    }
   ],
   "source": [
    "#imports:\n",
    "from os import listdir\n",
    "from os.path import isfile, join\n",
    "import sys\n",
    "sys.path.append(\"/Users/andyreagan/tools/python\")\n",
    "\n",
    "#from kitchentable.dogtoys import *\n",
    "\n",
    "from json import loads\n",
    "from re import findall,UNICODE\n",
    "\n",
    "from labMTsimple.labMTsimple.speedy import LabMT\n",
    "my_LabMT = LabMT()   #<--- can change to other paper's methods!!\n",
    "from labMTsimple.labMTsimple.storyLab import *\n",
    "\n",
    "import numpy as np\n",
    "from database.bookclass import Book_raw_data\n",
    "import pickle\n",
    "\n",
    "import os\n",
    "sys.path.append('/Users/andyreagan/projects/2014/09-books/database')\n",
    "os.environ.setdefault('DJANGO_SETTINGS_MODULE','gutenbergdb.settings')\n",
    "import django\n",
    "django.setup()\n",
    "\n",
    "from library.models import *\n",
    "\n",
    "from datetime import datetime\n",
    "\n",
    "use_cache = True\n",
    "\n",
    "# all our essentials\n",
    "from matplotlib import rc,rcParams\n",
    "# rc('font', family='sans-serif') \n",
    "# rc('font', serif='Helvetica Neue')\n",
    "# rc('text', usetex='false') \n",
    "\n",
    "rc('font', family='serif')\n",
    "rc('font', family='cmr10')\n",
    "rc('text', usetex='false') \n",
    "\n",
    "rcParams.update({'font.size': 12})\n",
    "import matplotlib.pyplot as plt\n",
    "%matplotlib inline"
   ]
  },
  {
   "cell_type": "code",
   "execution_count": null,
   "id": "826b92b2",
   "metadata": {},
   "outputs": [],
   "source": [
    "#filters the gutenberg books corpus by certain features\n",
    "\n",
    "#NOTE: \"Book.objects.filter\" is part of Django API\n",
    "\n",
    "q = Book.objects.filter(exclude=False,\n",
    "                        length__gt=10000,\n",
    "                        length__lte=200000,\n",
    "                        downloads__gte=150,\n",
    "                        numUniqWords__gt=1000,\n",
    "                        numUniqWords__lt=18000,\n",
    "                        lang_code_id=0).order_by(\"gutenberg_id\")"
   ]
  },
  {
   "cell_type": "code",
   "execution_count": null,
   "id": "966469e7",
   "metadata": {},
   "outputs": [],
   "source": [
    "#alternatively, grab a SINGLE book from the corpus\n",
    "q = Book.objects.filter(title=\"The Art of War\")"
   ]
  },
  {
   "cell_type": "code",
   "execution_count": 1,
   "id": "f489e09e",
   "metadata": {
    "scrolled": true
   },
   "outputs": [
    {
     "ename": "NameError",
     "evalue": "name 'plt' is not defined",
     "output_type": "error",
     "traceback": [
      "\u001b[1;31m---------------------------------------------------------------------------\u001b[0m",
      "\u001b[1;31mNameError\u001b[0m                                 Traceback (most recent call last)",
      "Cell \u001b[1;32mIn[1], line 3\u001b[0m\n\u001b[0;32m      1\u001b[0m \u001b[38;5;66;03m#given a list of books, goes through them and finds books which are not excluded\u001b[39;00m\n\u001b[1;32m----> 3\u001b[0m plt\u001b[38;5;241m.\u001b[39mfigure(figsize\u001b[38;5;241m=\u001b[39m(\u001b[38;5;241m15\u001b[39m,\u001b[38;5;241m7.5\u001b[39m))\n\u001b[0;32m      4\u001b[0m \u001b[38;5;28;01mfor\u001b[39;00m i,b \u001b[38;5;129;01min\u001b[39;00m \u001b[38;5;28menumerate\u001b[39m(q):\n\u001b[0;32m      5\u001b[0m     \u001b[38;5;28mprint\u001b[39m(b\u001b[38;5;241m.\u001b[39mtitle)\n",
      "\u001b[1;31mNameError\u001b[0m: name 'plt' is not defined"
     ]
    }
   ],
   "source": [
    "#given a list of books, goes through them and finds books which are not excluded\n",
    "#then processes and plots them \n",
    "\n",
    "#requires bookclass.py\n",
    "\n",
    "plt.figure(figsize=(15,7.5))\n",
    "for i,b in enumerate(q):\n",
    "    print(b.title)\n",
    "    for a in b.authors.all():\n",
    "        print(a)\n",
    "    print(b.exclude)\n",
    "    print(b.excludeReason)\n",
    "    print(b.gutenberg_id)\n",
    "    HTML(\"http://www.gutenberg.org/ebooks/{0}/\".format(b.gutenberg_id))\n",
    "    if not b.exclude:\n",
    "        b_data = Book_raw_data(b)\n",
    "        #below function is found in bookclass.py\n",
    "        a = b_data.chopper_sliding(my_LabMT,num_points=200,stop_val=1.0)  #mylabMT seems to be Hedonometer words?\n",
    "        plt.subplot(2,2,i+1)\n",
    "        plt.plot(b_data.timeseries)\n",
    "        plt.title(\"{0} ({1})\".format(b.title,b.gutenberg_id))"
   ]
  },
  {
   "cell_type": "markdown",
   "id": "9e380f48",
   "metadata": {},
   "source": [
    "Okay, let's try feeding our own book in"
   ]
  },
  {
   "cell_type": "code",
   "execution_count": 3,
   "id": "0f134503",
   "metadata": {},
   "outputs": [
    {
     "ename": "NameError",
     "evalue": "name 'sys' is not defined",
     "output_type": "error",
     "traceback": [
      "\u001b[1;31m---------------------------------------------------------------------------\u001b[0m",
      "\u001b[1;31mNameError\u001b[0m                                 Traceback (most recent call last)",
      "Cell \u001b[1;32mIn[3], line 1\u001b[0m\n\u001b[1;32m----> 1\u001b[0m sys\u001b[38;5;241m.\u001b[39mpath\u001b[38;5;241m.\u001b[39mappend(\u001b[38;5;124m'\u001b[39m\u001b[38;5;124mC:/Users/Owner/Documents/GitHub/narrative-recommend/books\u001b[39m\u001b[38;5;124m'\u001b[39m)\n",
      "\u001b[1;31mNameError\u001b[0m: name 'sys' is not defined"
     ]
    }
   ],
   "source": [
    "sys.path.append('C:/Users/Owner/Documents/GitHub/narrative-recommend/books')"
   ]
  },
  {
   "cell_type": "code",
   "execution_count": null,
   "id": "33539218",
   "metadata": {},
   "outputs": [],
   "source": []
  }
 ],
 "metadata": {
  "kernelspec": {
   "display_name": "Python 3 (ipykernel)",
   "language": "python",
   "name": "python3"
  },
  "language_info": {
   "codemirror_mode": {
    "name": "ipython",
    "version": 3
   },
   "file_extension": ".py",
   "mimetype": "text/x-python",
   "name": "python",
   "nbconvert_exporter": "python",
   "pygments_lexer": "ipython3",
   "version": "3.11.5"
  }
 },
 "nbformat": 4,
 "nbformat_minor": 5
}
